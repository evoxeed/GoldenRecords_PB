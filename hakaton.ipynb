{
 "cells": [
  {
   "cell_type": "code",
   "execution_count": null,
   "metadata": {},
   "outputs": [
    {
     "ename": "ImportError",
     "evalue": "cannot import name 'valid_cells' from 'modules.validation' (c:\\Users\\evoxed\\WebstormProjects\\GoldenRecords_PB\\GoldenRecords_PB\\modules\\validation.py)",
     "output_type": "error",
     "traceback": [
      "\u001b[1;31m---------------------------------------------------------------------------\u001b[0m",
      "\u001b[1;31mImportError\u001b[0m                               Traceback (most recent call last)",
      "Cell \u001b[1;32mIn[75], line 8\u001b[0m\n\u001b[0;32m      6\u001b[0m \u001b[38;5;28;01mfrom\u001b[39;00m \u001b[38;5;21;01mdatetime\u001b[39;00m \u001b[38;5;28;01mimport\u001b[39;00m datetime\n\u001b[0;32m      7\u001b[0m \u001b[38;5;66;03m#импорт модулей\u001b[39;00m\n\u001b[1;32m----> 8\u001b[0m \u001b[38;5;28;01mfrom\u001b[39;00m \u001b[38;5;21;01mmodules\u001b[39;00m\u001b[38;5;21;01m.\u001b[39;00m\u001b[38;5;21;01mvalidation\u001b[39;00m \u001b[38;5;28;01mimport\u001b[39;00m valid_cells\n\u001b[0;32m     10\u001b[0m \u001b[38;5;66;03m# phoneFrame = pd.read_csv('dirty.csv', usecols=['contact_phone'])\u001b[39;00m\n\u001b[0;32m     11\u001b[0m \u001b[38;5;66;03m# phoneFrame.to_csv('phone_output.txt', sep='\\t', index=False)\u001b[39;00m\n\u001b[0;32m     13\u001b[0m dataasd \u001b[38;5;241m=\u001b[39m [\u001b[38;5;124m'\u001b[39m\u001b[38;5;124m'\u001b[39m, \u001b[38;5;124m'\u001b[39m\u001b[38;5;124mvfbf\u001b[39m\u001b[38;5;124m'\u001b[39m, \u001b[38;5;124m'\u001b[39m\u001b[38;5;124m3425\u001b[39m\u001b[38;5;124m'\u001b[39m, \u001b[38;5;124m'\u001b[39m\u001b[38;5;124m5566\u001b[39m\u001b[38;5;124m'\u001b[39m]\n",
      "\u001b[1;31mImportError\u001b[0m: cannot import name 'valid_cells' from 'modules.validation' (c:\\Users\\evoxed\\WebstormProjects\\GoldenRecords_PB\\GoldenRecords_PB\\modules\\validation.py)"
     ]
    }
   ],
   "source": [
    "import pandas as pd\n",
    "import re\n",
    "import phonenumbers\n",
    "from phonenumbers import carrier\n",
    "from phonenumbers.phonenumberutil import number_type\n",
    "from datetime import datetime\n",
    "#импорт модулей\n",
    "from modules.validation import valid_cells\n",
    "\n",
    "# phoneFrame = pd.read_csv('dirty.csv', usecols=['contact_phone'])\n",
    "# phoneFrame.to_csv('phone_output.txt', sep='\\t', index=False)\n",
    "\n",
    "dataasd = ['', 'vfbf', '3425', '5566']\n",
    "\n",
    "print(valid_cells(dataasd))\n",
    "\n",
    "\n",
    "\n",
    "\n",
    "# # Преобразуем столбец update_date в datetime (если это необходимо)\n",
    "# goldenRecord['update_date'] = pd.to_datetime(goldenRecord['update_date'], errors='coerce')\n",
    "\n",
    "# # Сортируем данные по дате (сначала актуальные, затем старые)\n",
    "# goldenRecord = goldenRecord.sort_values(by='update_date', ascending=False)\n",
    "\n",
    "# # Множество для хранения уникальных СНИЛС\n",
    "# seen_snils = {}\n",
    "\n",
    "# # Открываем новый CSV-файл для записи данных с уникальными СНИЛС и актуальными записями\n",
    "# with open('unique_snils.csv', 'w', newline='', encoding='utf-8') as f:\n",
    "#     # Записываем заголовки\n",
    "#     f.write(','.join(goldenRecord.columns) + '\\n')  # Используем запятую для заголовков\n",
    "    \n",
    "#     # Итерация по строкам DataFrame\n",
    "#     for index, row in goldenRecord.iterrows():\n",
    "#         snils = str(row['client_snils'])  # Получаем СНИЛС в виде строки\n",
    "        \n",
    "#         # Если СНИЛС еще не встречался, записываем его в файл\n",
    "#         if snils not in seen_snils:\n",
    "#             seen_snils[snils] = row['update_date']  # Сохраняем дату последней записи для этого СНИЛСа\n",
    "            \n",
    "#             # Заменяем NaN на пустую строку\n",
    "#             row = row.fillna('')  # Заменяем все NaN на пустую строку\n",
    "            \n",
    "#             # Записываем данные через запятую\n",
    "#             f.write(','.join(row.astype(str)) + '\\n')\n",
    "#         else:\n",
    "#             # Если СНИЛС уже встречался, проверяем актуальность данных\n",
    "#             last_update = seen_snils[snils]  # Дата последней записи для этого СНИЛСа\n",
    "            \n",
    "#             # Если текущая запись более актуальная (с более поздней датой), обновляем данные\n",
    "#             if row['update_date'] > last_update:\n",
    "#                 seen_snils[snils] = row['update_date']  # Обновляем дату для СНИЛСа\n",
    "                \n",
    "#                 # Заменяем NaN на пустую строку\n",
    "#                 row = row.fillna('')  # Заменяем все NaN на пустую строку\n",
    "                \n",
    "#                 # Записываем данные через запятую\n",
    "#                 f.write(','.join(row.astype(str)) + '\\n')\n",
    "\n",
    "# # Уведомление о завершении записи\n",
    "# print(\"Данные с уникальными и актуальными СНИЛС были сохранены в файл 'unique_snils.csv'.\")\n"
   ]
  }
 ],
 "metadata": {
  "kernelspec": {
   "display_name": ".venv",
   "language": "python",
   "name": "python3"
  },
  "language_info": {
   "codemirror_mode": {
    "name": "ipython",
    "version": 3
   },
   "file_extension": ".py",
   "mimetype": "text/x-python",
   "name": "python",
   "nbconvert_exporter": "python",
   "pygments_lexer": "ipython3",
   "version": "3.12.7"
  }
 },
 "nbformat": 4,
 "nbformat_minor": 2
}
