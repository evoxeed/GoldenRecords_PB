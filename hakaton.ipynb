{
 "cells": [
  {
   "cell_type": "code",
   "execution_count": null,
   "metadata": {},
   "outputs": [
    {
     "name": "stderr",
     "output_type": "stream",
     "text": [
      "C:\\Users\\aangm\\AppData\\Local\\Temp\\ipykernel_13968\\1439958989.py:14: DtypeWarning: Columns (18,19,20,25,42) have mixed types. Specify dtype option on import or set low_memory=False.\n",
      "  df = pd.read_csv('dirty.csv')\n",
      "C:\\Users\\aangm\\AppData\\Local\\Temp\\ipykernel_13968\\1439958989.py:38: DeprecationWarning: DataFrameGroupBy.apply operated on the grouping columns. This behavior is deprecated, and in a future version of pandas the grouping columns will be excluded from the operation. Either pass `include_groups=False` to exclude the groupings or explicitly select the grouping columns after groupby to silence this warning.\n",
      "  golden_records = df.groupby('client_inn').apply(create_gold_record)\n"
     ]
    },
    {
     "name": "stdout",
     "output_type": "stream",
     "text": [
      "Золотые записи с учетом актуальности сохранены в 'golden_records.csv'\n",
      "Данные сохранены в файл output_zips.txt\n"
     ]
    }
   ],
   "source": [
    "import pandas as pd\n",
    "from phonenumbers.phonenumberutil import number_type\n",
    " \n",
    "\n",
    "import pandas as pd\n",
    "\n",
    "# Загрузка данных\n",
    "df = pd.read_csv('dirty.csv')\n",
    "\n",
    "# Убедимся, что даты в формате datetime\n",
    "df['create_date'] = pd.to_datetime(df['create_date'], errors='coerce')\n",
    "df['update_date'] = pd.to_datetime(df['update_date'], errors='coerce')\n",
    "\n",
    "# Функция для создания золотой записи с учетом актуальности данных\n",
    "def create_gold_record(group):\n",
    "    # Если есть update_date, сортируем группу по нему в убывающем порядке\n",
    "    sorted_group = group.sort_values(by=['update_date', 'create_date'], ascending=False)\n",
    "    \n",
    "    # Начинаем с первой строки (самой актуальной по дате)\n",
    "    gold_record = sorted_group.iloc[0].copy()\n",
    "    \n",
    "    # Заполняем пропуски данными из остальных строк в порядке приоритета\n",
    "    for column in group.columns:\n",
    "        if pd.isna(gold_record[column]):  # Если значение пустое\n",
    "            non_null_values = sorted_group[column].dropna()\n",
    "            if not non_null_values.empty:\n",
    "                gold_record[column] = non_null_values.iloc[0]  # Берем первое непустое значение\n",
    "    \n",
    "    return pd.Series(gold_record)\n",
    "\n",
    "# Группировка по client_inn и создание золотых записей\n",
    "golden_records = df.groupby('client_inn').apply(create_gold_record)\n",
    "\n",
    "# Сброс индекса и сохранение результата\n",
    "golden_records = golden_records.reset_index(drop=True)\n",
    "golden_records.to_csv('golden_records.csv', index=False)\n",
    "\n",
    "print(\"Золотые записи с учетом актуальности сохранены в 'golden_records.csv'\")\n",
    "\n",
    "print(\"Данные сохранены в файл output_zips.txt\")"
   ]
  }
 ],
 "metadata": {
  "kernelspec": {
   "display_name": "venv",
   "language": "python",
   "name": "python3"
  },
  "language_info": {
   "codemirror_mode": {
    "name": "ipython",
    "version": 3
   },
   "file_extension": ".py",
   "mimetype": "text/x-python",
   "name": "python",
   "nbconvert_exporter": "python",
   "pygments_lexer": "ipython3",
   "version": "3.13.0"
  }
 },
 "nbformat": 4,
 "nbformat_minor": 2
}
