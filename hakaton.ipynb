{
 "cells": [
  {
   "cell_type": "code",
   "execution_count": 3,
   "metadata": {},
   "outputs": [
    {
     "name": "stdout",
     "output_type": "stream",
     "text": [
      "Данные сохранены в файл phone_output.txt\n",
      "Данные сохранены в файл output_emails.txt\n"
     ]
    },
    {
     "name": "stderr",
     "output_type": "stream",
     "text": [
      "C:\\Users\\evoxed\\AppData\\Local\\Temp\\ipykernel_27584\\4156772543.py:54: DtypeWarning: Columns (25) have mixed types. Specify dtype option on import or set low_memory=False.\n",
      "  zipFrame = pd.read_csv('dirty.csv', usecols=['addr_zip'])\n"
     ]
    },
    {
     "name": "stdout",
     "output_type": "stream",
     "text": [
      "Данные сохранены в файл output_zips.txt\n"
     ]
    }
   ],
   "source": [
    "import pandas as pd\n",
    "import re\n",
    "import phonenumbers\n",
    "from phonenumbers import carrier\n",
    "from phonenumbers.phonenumberutil import number_type\n",
    " \n",
    " # The read_csv is reading the csv file into Dataframe\n",
    "pd.options.display.max_columns = 47\n",
    "pd.options.display.max_rows = 1000\n",
    "\n",
    "#df = pd.read_csv(\"dirty.csv\", low_memory=False )\n",
    "phoneFrame = pd.read_csv('dirty.csv', usecols=['contact_phone'])\n",
    "\n",
    "\n",
    "def phone_validation(phoneNumber):\n",
    "    try:\n",
    "        number2Validate = phoneNumber\n",
    "        return carrier._is_mobile(number_type(phonenumbers.parse(number2Validate)))\n",
    "    except phonenumbers.NumberParseException:\n",
    "        return False\n",
    "\n",
    "# Применение функции валидации к столбцу 'contact_phone'\n",
    "phoneFrame['phone_is_valid'] = phoneFrame['contact_phone'].apply(phone_validation)\n",
    "\n",
    "# Очищаем значения в 'contact_phone', если номер не мобильный\n",
    "phoneFrame.loc[~phoneFrame['phone_is_valid'], 'contact_phone'] = None  # или '' для пустой строки\n",
    "\n",
    "# Сохранение DataFrame в текстовый файл\n",
    "phoneFrame.to_csv('phone_output.txt', sep='\\t', index=False)  # Используйте sep=',' для запятой\n",
    "\n",
    "print(\"Данные сохранены в файл phone_output.txt\")\n",
    "\n",
    "emailFrame = pd.read_csv('dirty.csv', usecols=['contact_email'])\n",
    " \n",
    "# Функция для проверки валидности адреса электронной почты\n",
    "def email_validation(email):\n",
    "    if isinstance(email, str):  # Проверяем, является ли email строкой\n",
    "        # Регулярное выражение для проверки формата электронной почты\n",
    "        email_regex = r'^[a-zA-Z0-9._%+-]+@[a-zA-Z0-9.-]+\\.[a-zA-Z]{2,}$'\n",
    "        return re.match(email_regex, email) is not None\n",
    "    return False  # Если email не строка, возвращаем False\n",
    "\n",
    "# Применение функции проверки к столбцу 'contact_email'\n",
    "emailFrame['email_is_valid'] = emailFrame['contact_email'].apply(email_validation)\n",
    "\n",
    "# Очищаем значения в 'contact_email', если адрес не валидный\n",
    "emailFrame.loc[~emailFrame['email_is_valid'], 'contact_email'] = None  # или '' для пустой строки\n",
    "\n",
    "# Сохранение DataFrame в текстовый файл\n",
    "emailFrame.to_csv('output_emails.txt', sep='\\t', index=False)  # Используйте sep=',' для запятой\n",
    "\n",
    "print(\"Данные сохранены в файл output_emails.txt\")\n",
    "\n",
    "zipFrame = pd.read_csv('dirty.csv', usecols=['addr_zip'])\n",
    "\n",
    "# Функция для проверки валидности почтового индекса в России\n",
    "def zip_validation(zip_code):\n",
    "    if isinstance(zip_code, str):  # Проверяем, является ли zip_code строкой\n",
    "        zip_regex = r'^\\d{6}$'  # Формат: 123456\n",
    "        return re.match(zip_regex, zip_code) is not None\n",
    "    return False  # Если zip_code не строка, возвращаем False\n",
    "\n",
    "# Применение функции проверки к столбцу 'addr_zip'\n",
    "zipFrame['zip_is_valid'] = zipFrame['addr_zip'].apply(zip_validation)\n",
    "\n",
    "# Очищаем значения в 'addr_zip', если индекс не валидный\n",
    "zipFrame.loc[~zipFrame['zip_is_valid'], 'addr_zip'] = None  # или '' для пустой строки\n",
    "\n",
    "# Сохранение DataFrame в текстовый файл\n",
    "zipFrame.to_csv('output_zips.txt', sep='\\t', index=False)  # Используйте sep=',' для запятой\n",
    "\n",
    "print(\"Данные сохранены в файл output_zips.txt\")"
   ]
  }
 ],
 "metadata": {
  "kernelspec": {
   "display_name": ".venv",
   "language": "python",
   "name": "python3"
  },
  "language_info": {
   "codemirror_mode": {
    "name": "ipython",
    "version": 3
   },
   "file_extension": ".py",
   "mimetype": "text/x-python",
   "name": "python",
   "nbconvert_exporter": "python",
   "pygments_lexer": "ipython3",
   "version": "3.12.7"
  }
 },
 "nbformat": 4,
 "nbformat_minor": 2
}
